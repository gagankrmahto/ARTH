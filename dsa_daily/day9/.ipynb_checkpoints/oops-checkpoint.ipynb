{
 "cells": [
  {
   "cell_type": "code",
   "execution_count": 1,
   "id": "479df324",
   "metadata": {},
   "outputs": [],
   "source": [
    "x = 4"
   ]
  },
  {
   "cell_type": "code",
   "execution_count": 9,
   "id": "ca630c99",
   "metadata": {},
   "outputs": [
    {
     "data": {
      "text/plain": [
       "'0x7ffb8e092790'"
      ]
     },
     "execution_count": 9,
     "metadata": {},
     "output_type": "execute_result"
    }
   ],
   "source": [
    "hex(id(x))"
   ]
  },
  {
   "cell_type": "code",
   "execution_count": 4,
   "id": "efd6ae5a",
   "metadata": {},
   "outputs": [
    {
     "data": {
      "text/plain": [
       "140718396483472"
      ]
     },
     "execution_count": 4,
     "metadata": {},
     "output_type": "execute_result"
    }
   ],
   "source": [
    "id(4)"
   ]
  },
  {
   "cell_type": "code",
   "execution_count": 5,
   "id": "d7c6bf3c",
   "metadata": {},
   "outputs": [
    {
     "data": {
      "text/plain": [
       "140718396483504"
      ]
     },
     "execution_count": 5,
     "metadata": {},
     "output_type": "execute_result"
    }
   ],
   "source": [
    "id(5)"
   ]
  },
  {
   "cell_type": "code",
   "execution_count": 6,
   "id": "c7535b0c",
   "metadata": {},
   "outputs": [],
   "source": [
    "y = 6"
   ]
  },
  {
   "cell_type": "code",
   "execution_count": 7,
   "id": "551b2297",
   "metadata": {},
   "outputs": [
    {
     "data": {
      "text/plain": [
       "140718396483536"
      ]
     },
     "execution_count": 7,
     "metadata": {},
     "output_type": "execute_result"
    }
   ],
   "source": [
    "id(y)"
   ]
  },
  {
   "cell_type": "code",
   "execution_count": 8,
   "id": "ebc25420",
   "metadata": {},
   "outputs": [
    {
     "data": {
      "text/plain": [
       "6"
      ]
     },
     "execution_count": 8,
     "metadata": {},
     "output_type": "execute_result"
    }
   ],
   "source": [
    "6"
   ]
  },
  {
   "cell_type": "code",
   "execution_count": 10,
   "id": "7ba8c435",
   "metadata": {},
   "outputs": [],
   "source": [
    "def sks():\n",
    "    name = \"Sonam\"\n",
    "    age = 20\n",
    "    "
   ]
  },
  {
   "cell_type": "code",
   "execution_count": 11,
   "id": "f60969d7",
   "metadata": {},
   "outputs": [
    {
     "data": {
      "text/plain": [
       "<function __main__.sks()>"
      ]
     },
     "execution_count": 11,
     "metadata": {},
     "output_type": "execute_result"
    }
   ],
   "source": [
    "sks"
   ]
  },
  {
   "cell_type": "code",
   "execution_count": 12,
   "id": "50d5588c",
   "metadata": {},
   "outputs": [
    {
     "data": {
      "text/plain": [
       "1621075354528"
      ]
     },
     "execution_count": 12,
     "metadata": {},
     "output_type": "execute_result"
    }
   ],
   "source": [
    "id(sks)"
   ]
  },
  {
   "cell_type": "code",
   "execution_count": 13,
   "id": "26ffee42",
   "metadata": {},
   "outputs": [
    {
     "data": {
      "text/plain": [
       "'0x1796f9ee3a0'"
      ]
     },
     "execution_count": 13,
     "metadata": {},
     "output_type": "execute_result"
    }
   ],
   "source": [
    "hex(id(sks))"
   ]
  },
  {
   "cell_type": "code",
   "execution_count": 14,
   "id": "593c801f",
   "metadata": {},
   "outputs": [],
   "source": [
    "gk = sks"
   ]
  },
  {
   "cell_type": "code",
   "execution_count": 16,
   "id": "3d934cd3",
   "metadata": {},
   "outputs": [
    {
     "data": {
      "text/plain": [
       "'0x1796f9ee3a0'"
      ]
     },
     "execution_count": 16,
     "metadata": {},
     "output_type": "execute_result"
    }
   ],
   "source": [
    "hex(id(gk))"
   ]
  },
  {
   "cell_type": "code",
   "execution_count": 23,
   "id": "8fec6876",
   "metadata": {},
   "outputs": [],
   "source": [
    "def sks(name):\n",
    "    name = name\n",
    "    age = 20\n",
    "    \n",
    "    return name"
   ]
  },
  {
   "cell_type": "code",
   "execution_count": 24,
   "id": "f253ac1a",
   "metadata": {},
   "outputs": [
    {
     "data": {
      "text/plain": [
       "'name'"
      ]
     },
     "execution_count": 24,
     "metadata": {},
     "output_type": "execute_result"
    }
   ],
   "source": [
    "sks(\"name\")"
   ]
  },
  {
   "cell_type": "code",
   "execution_count": 25,
   "id": "6536d783",
   "metadata": {},
   "outputs": [],
   "source": [
    "sks.name=\"monsoon\""
   ]
  },
  {
   "cell_type": "code",
   "execution_count": 26,
   "id": "30211a23",
   "metadata": {},
   "outputs": [
    {
     "data": {
      "text/plain": [
       "'monsoon'"
      ]
     },
     "execution_count": 26,
     "metadata": {},
     "output_type": "execute_result"
    }
   ],
   "source": [
    "sks.name"
   ]
  },
  {
   "cell_type": "code",
   "execution_count": 27,
   "id": "0583916a",
   "metadata": {},
   "outputs": [],
   "source": [
    "class home:\n",
    "    rooms = 2\n",
    "    hall = 1\n",
    "    kitchen = \"small\""
   ]
  },
  {
   "cell_type": "code",
   "execution_count": 29,
   "id": "97e167c7",
   "metadata": {},
   "outputs": [],
   "source": [
    "ghar1 = home()"
   ]
  },
  {
   "cell_type": "code",
   "execution_count": 30,
   "id": "d25912d2",
   "metadata": {},
   "outputs": [
    {
     "data": {
      "text/plain": [
       "2"
      ]
     },
     "execution_count": 30,
     "metadata": {},
     "output_type": "execute_result"
    }
   ],
   "source": [
    "ghar1.rooms"
   ]
  },
  {
   "cell_type": "code",
   "execution_count": 36,
   "id": "8303525d",
   "metadata": {},
   "outputs": [
    {
     "data": {
      "text/plain": [
       "'0x1796ef16b10'"
      ]
     },
     "execution_count": 36,
     "metadata": {},
     "output_type": "execute_result"
    }
   ],
   "source": [
    "hex(id(home))"
   ]
  },
  {
   "cell_type": "code",
   "execution_count": 37,
   "id": "f6edb947",
   "metadata": {},
   "outputs": [
    {
     "data": {
      "text/plain": [
       "'0x1796fa064c0'"
      ]
     },
     "execution_count": 37,
     "metadata": {},
     "output_type": "execute_result"
    }
   ],
   "source": [
    "hex(id(home()))"
   ]
  },
  {
   "cell_type": "code",
   "execution_count": 38,
   "id": "c3a6e5ed",
   "metadata": {},
   "outputs": [
    {
     "data": {
      "text/plain": [
       "<__main__.home at 0x1796fa065e0>"
      ]
     },
     "execution_count": 38,
     "metadata": {},
     "output_type": "execute_result"
    }
   ],
   "source": [
    "home()"
   ]
  },
  {
   "cell_type": "code",
   "execution_count": 39,
   "id": "0a132b56",
   "metadata": {},
   "outputs": [
    {
     "data": {
      "text/plain": [
       "<__main__.home at 0x1796fa064c0>"
      ]
     },
     "execution_count": 39,
     "metadata": {},
     "output_type": "execute_result"
    }
   ],
   "source": [
    "home()"
   ]
  },
  {
   "cell_type": "code",
   "execution_count": 40,
   "id": "e4fe6495",
   "metadata": {},
   "outputs": [
    {
     "ename": "IndentationError",
     "evalue": "expected an indented block (<ipython-input-40-fd07628cdc72>, line 3)",
     "output_type": "error",
     "traceback": [
      "\u001b[1;36m  File \u001b[1;32m\"<ipython-input-40-fd07628cdc72>\"\u001b[1;36m, line \u001b[1;32m3\u001b[0m\n\u001b[1;33m    rooms = 2\u001b[0m\n\u001b[1;37m    ^\u001b[0m\n\u001b[1;31mIndentationError\u001b[0m\u001b[1;31m:\u001b[0m expected an indented block\n"
     ]
    }
   ],
   "source": [
    "class home:\n",
    "    def myhome():\n",
    "        rooms = 2\n",
    "        hall = 1\n",
    "        kitchen = \"small\""
   ]
  },
  {
   "cell_type": "code",
   "execution_count": null,
   "id": "f9089cbc",
   "metadata": {},
   "outputs": [],
   "source": []
  }
 ],
 "metadata": {
  "kernelspec": {
   "display_name": "Python 3",
   "language": "python",
   "name": "python3"
  },
  "language_info": {
   "codemirror_mode": {
    "name": "ipython",
    "version": 3
   },
   "file_extension": ".py",
   "mimetype": "text/x-python",
   "name": "python",
   "nbconvert_exporter": "python",
   "pygments_lexer": "ipython3",
   "version": "3.8.8"
  }
 },
 "nbformat": 4,
 "nbformat_minor": 5
}
