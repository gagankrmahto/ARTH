{
 "cells": [
  {
   "cell_type": "code",
   "execution_count": 1,
   "id": "b123a092",
   "metadata": {},
   "outputs": [],
   "source": [
    "x = 4"
   ]
  },
  {
   "cell_type": "code",
   "execution_count": 9,
   "id": "56df4181",
   "metadata": {},
   "outputs": [
    {
     "data": {
      "text/plain": [
       "'0x7ffb8e092790'"
      ]
     },
     "execution_count": 9,
     "metadata": {},
     "output_type": "execute_result"
    }
   ],
   "source": [
    "hex(id(x))"
   ]
  },
  {
   "cell_type": "code",
   "execution_count": 4,
   "id": "b1d562cc",
   "metadata": {},
   "outputs": [
    {
     "data": {
      "text/plain": [
       "140718396483472"
      ]
     },
     "execution_count": 4,
     "metadata": {},
     "output_type": "execute_result"
    }
   ],
   "source": [
    "id(4)"
   ]
  },
  {
   "cell_type": "code",
   "execution_count": 5,
   "id": "75c60f59",
   "metadata": {},
   "outputs": [
    {
     "data": {
      "text/plain": [
       "140718396483504"
      ]
     },
     "execution_count": 5,
     "metadata": {},
     "output_type": "execute_result"
    }
   ],
   "source": [
    "id(5)"
   ]
  },
  {
   "cell_type": "code",
   "execution_count": 6,
   "id": "a0ffdac5",
   "metadata": {},
   "outputs": [],
   "source": [
    "y = 6"
   ]
  },
  {
   "cell_type": "code",
   "execution_count": 7,
   "id": "67c07f48",
   "metadata": {},
   "outputs": [
    {
     "data": {
      "text/plain": [
       "140718396483536"
      ]
     },
     "execution_count": 7,
     "metadata": {},
     "output_type": "execute_result"
    }
   ],
   "source": [
    "id(y)"
   ]
  },
  {
   "cell_type": "code",
   "execution_count": 8,
   "id": "4144ed5d",
   "metadata": {},
   "outputs": [
    {
     "data": {
      "text/plain": [
       "6"
      ]
     },
     "execution_count": 8,
     "metadata": {},
     "output_type": "execute_result"
    }
   ],
   "source": [
    "6"
   ]
  },
  {
   "cell_type": "code",
   "execution_count": 10,
   "id": "cd61632e",
   "metadata": {},
   "outputs": [],
   "source": [
    "def sks():\n",
    "    name = \"Sonam\"\n",
    "    age = 20\n",
    "    "
   ]
  },
  {
   "cell_type": "code",
   "execution_count": 11,
   "id": "95bd786e",
   "metadata": {},
   "outputs": [
    {
     "data": {
      "text/plain": [
       "<function __main__.sks()>"
      ]
     },
     "execution_count": 11,
     "metadata": {},
     "output_type": "execute_result"
    }
   ],
   "source": [
    "sks"
   ]
  },
  {
   "cell_type": "code",
   "execution_count": 12,
   "id": "cdb7301b",
   "metadata": {},
   "outputs": [
    {
     "data": {
      "text/plain": [
       "1621075354528"
      ]
     },
     "execution_count": 12,
     "metadata": {},
     "output_type": "execute_result"
    }
   ],
   "source": [
    "id(sks)"
   ]
  },
  {
   "cell_type": "code",
   "execution_count": 13,
   "id": "ed494f1c",
   "metadata": {},
   "outputs": [
    {
     "data": {
      "text/plain": [
       "'0x1796f9ee3a0'"
      ]
     },
     "execution_count": 13,
     "metadata": {},
     "output_type": "execute_result"
    }
   ],
   "source": [
    "hex(id(sks))"
   ]
  },
  {
   "cell_type": "code",
   "execution_count": 14,
   "id": "2eb644c1",
   "metadata": {},
   "outputs": [],
   "source": [
    "gk = sks"
   ]
  },
  {
   "cell_type": "code",
   "execution_count": 16,
   "id": "ba356ec7",
   "metadata": {},
   "outputs": [
    {
     "data": {
      "text/plain": [
       "'0x1796f9ee3a0'"
      ]
     },
     "execution_count": 16,
     "metadata": {},
     "output_type": "execute_result"
    }
   ],
   "source": [
    "hex(id(gk))"
   ]
  },
  {
   "cell_type": "code",
   "execution_count": 23,
   "id": "630fa4bd",
   "metadata": {},
   "outputs": [],
   "source": [
    "def sks(name):\n",
    "    name = name\n",
    "    age = 20\n",
    "    \n",
    "    return name"
   ]
  },
  {
   "cell_type": "code",
   "execution_count": 24,
   "id": "1cfc1c04",
   "metadata": {},
   "outputs": [
    {
     "data": {
      "text/plain": [
       "'name'"
      ]
     },
     "execution_count": 24,
     "metadata": {},
     "output_type": "execute_result"
    }
   ],
   "source": [
    "sks(\"name\")"
   ]
  },
  {
   "cell_type": "code",
   "execution_count": 25,
   "id": "772e8b37",
   "metadata": {},
   "outputs": [],
   "source": [
    "sks.name=\"monsoon\""
   ]
  },
  {
   "cell_type": "code",
   "execution_count": 26,
   "id": "b0f91bd9",
   "metadata": {},
   "outputs": [
    {
     "data": {
      "text/plain": [
       "'monsoon'"
      ]
     },
     "execution_count": 26,
     "metadata": {},
     "output_type": "execute_result"
    }
   ],
   "source": [
    "sks.name"
   ]
  },
  {
   "cell_type": "code",
   "execution_count": 27,
   "id": "6ee25a94",
   "metadata": {},
   "outputs": [],
   "source": [
    "class home:\n",
    "    rooms = 2\n",
    "    hall = 1\n",
    "    kitchen = \"small\""
   ]
  },
  {
   "cell_type": "code",
   "execution_count": 29,
   "id": "f70cbf17",
   "metadata": {},
   "outputs": [],
   "source": [
    "ghar1 = home()"
   ]
  },
  {
   "cell_type": "code",
   "execution_count": 30,
   "id": "702aa55b",
   "metadata": {},
   "outputs": [
    {
     "data": {
      "text/plain": [
       "2"
      ]
     },
     "execution_count": 30,
     "metadata": {},
     "output_type": "execute_result"
    }
   ],
   "source": [
    "ghar1.rooms"
   ]
  },
  {
   "cell_type": "code",
   "execution_count": 36,
   "id": "f824af94",
   "metadata": {},
   "outputs": [
    {
     "data": {
      "text/plain": [
       "'0x1796ef16b10'"
      ]
     },
     "execution_count": 36,
     "metadata": {},
     "output_type": "execute_result"
    }
   ],
   "source": [
    "hex(id(home))"
   ]
  },
  {
   "cell_type": "code",
   "execution_count": 37,
   "id": "4e3c7f98",
   "metadata": {},
   "outputs": [
    {
     "data": {
      "text/plain": [
       "'0x1796fa064c0'"
      ]
     },
     "execution_count": 37,
     "metadata": {},
     "output_type": "execute_result"
    }
   ],
   "source": [
    "hex(id(home()))"
   ]
  },
  {
   "cell_type": "code",
   "execution_count": 38,
   "id": "e152ba54",
   "metadata": {},
   "outputs": [
    {
     "data": {
      "text/plain": [
       "<__main__.home at 0x1796fa065e0>"
      ]
     },
     "execution_count": 38,
     "metadata": {},
     "output_type": "execute_result"
    }
   ],
   "source": [
    "home()"
   ]
  },
  {
   "cell_type": "code",
   "execution_count": 39,
   "id": "5623325a",
   "metadata": {},
   "outputs": [
    {
     "data": {
      "text/plain": [
       "<__main__.home at 0x1796fa064c0>"
      ]
     },
     "execution_count": 39,
     "metadata": {},
     "output_type": "execute_result"
    }
   ],
   "source": [
    "home()"
   ]
  },
  {
   "cell_type": "code",
   "execution_count": 76,
   "id": "61464c93",
   "metadata": {},
   "outputs": [],
   "source": [
    "class newhome:\n",
    "    def myhome(myadd):\n",
    "        print(\"this is \",myadd)\n",
    "        myadd.rooms = 2\n",
    "        myadd.hall = 1\n",
    "        myadd.kitchen = \"small\""
   ]
  },
  {
   "cell_type": "code",
   "execution_count": 77,
   "id": "ddfaf50a",
   "metadata": {},
   "outputs": [],
   "source": [
    "homegk = newhome()"
   ]
  },
  {
   "cell_type": "code",
   "execution_count": 82,
   "id": "99f9ce85",
   "metadata": {},
   "outputs": [
    {
     "name": "stdout",
     "output_type": "stream",
     "text": [
      "this is  <__main__.newhome object at 0x000001796F8EC5E0>\n"
     ]
    }
   ],
   "source": [
    "homegk.myhome()"
   ]
  },
  {
   "cell_type": "code",
   "execution_count": 83,
   "id": "b26358f5",
   "metadata": {},
   "outputs": [
    {
     "data": {
      "text/plain": [
       "'0x1796f8ec5e0'"
      ]
     },
     "execution_count": 83,
     "metadata": {},
     "output_type": "execute_result"
    }
   ],
   "source": [
    "hex(id(homegk))"
   ]
  },
  {
   "cell_type": "code",
   "execution_count": 88,
   "id": "e9765667",
   "metadata": {},
   "outputs": [],
   "source": [
    "class home_temp:\n",
    "    def myhome(self):\n",
    "        print(\"this is \",self)\n",
    "        self.rooms = 2\n",
    "        self.hall = 1\n",
    "        self.kitchen = \"small\"\n",
    "        \n",
    "        print(self.rooms)"
   ]
  },
  {
   "cell_type": "code",
   "execution_count": 89,
   "id": "8b916063",
   "metadata": {},
   "outputs": [],
   "source": [
    "newh = home_temp()"
   ]
  },
  {
   "cell_type": "code",
   "execution_count": 90,
   "id": "7accc4cf",
   "metadata": {},
   "outputs": [
    {
     "name": "stdout",
     "output_type": "stream",
     "text": [
      "this is  <__main__.home_temp object at 0x000001796F8EC9A0>\n",
      "2\n"
     ]
    }
   ],
   "source": [
    "newh.myhome()"
   ]
  },
  {
   "cell_type": "code",
   "execution_count": 91,
   "id": "87e696f7",
   "metadata": {},
   "outputs": [
    {
     "data": {
      "text/plain": [
       "1621063965168"
      ]
     },
     "execution_count": 91,
     "metadata": {},
     "output_type": "execute_result"
    }
   ],
   "source": [
    "id(home_temp)"
   ]
  },
  {
   "cell_type": "code",
   "execution_count": 92,
   "id": "88545fbb",
   "metadata": {},
   "outputs": [
    {
     "data": {
      "text/plain": [
       "1621074299296"
      ]
     },
     "execution_count": 92,
     "metadata": {},
     "output_type": "execute_result"
    }
   ],
   "source": [
    "id(newh)"
   ]
  },
  {
   "cell_type": "code",
   "execution_count": 93,
   "id": "ed3d147c",
   "metadata": {},
   "outputs": [
    {
     "data": {
      "text/plain": [
       "1621093854992"
      ]
     },
     "execution_count": 93,
     "metadata": {},
     "output_type": "execute_result"
    }
   ],
   "source": [
    "id(home_temp())"
   ]
  },
  {
   "cell_type": "code",
   "execution_count": 97,
   "id": "a449976d",
   "metadata": {},
   "outputs": [
    {
     "name": "stdout",
     "output_type": "stream",
     "text": [
      "<class 'int'>\n"
     ]
    }
   ],
   "source": [
    "print((int))"
   ]
  },
  {
   "cell_type": "code",
   "execution_count": 98,
   "id": "79e56a07",
   "metadata": {},
   "outputs": [],
   "source": [
    "x = 5"
   ]
  },
  {
   "cell_type": "code",
   "execution_count": 99,
   "id": "ed16cad3",
   "metadata": {},
   "outputs": [
    {
     "name": "stdout",
     "output_type": "stream",
     "text": [
      "<class 'int'>\n"
     ]
    }
   ],
   "source": [
    "print(type(x))"
   ]
  },
  {
   "cell_type": "code",
   "execution_count": 101,
   "id": "babf14a3",
   "metadata": {},
   "outputs": [
    {
     "name": "stdout",
     "output_type": "stream",
     "text": [
      "<class '__main__.home_temp'>\n"
     ]
    }
   ],
   "source": [
    "print(type(newh))"
   ]
  },
  {
   "cell_type": "code",
   "execution_count": 102,
   "id": "98badc19",
   "metadata": {},
   "outputs": [
    {
     "data": {
      "text/plain": [
       "<__main__.home_temp at 0x1796f8ec9a0>"
      ]
     },
     "execution_count": 102,
     "metadata": {},
     "output_type": "execute_result"
    }
   ],
   "source": [
    "newh"
   ]
  },
  {
   "cell_type": "code",
   "execution_count": 103,
   "id": "4037fe19",
   "metadata": {},
   "outputs": [],
   "source": [
    "newh1 = home_temp()"
   ]
  },
  {
   "cell_type": "code",
   "execution_count": null,
   "id": "02a07039",
   "metadata": {},
   "outputs": [],
   "source": []
  }
 ],
 "metadata": {
  "kernelspec": {
   "display_name": "Python 3",
   "language": "python",
   "name": "python3"
  },
  "language_info": {
   "codemirror_mode": {
    "name": "ipython",
    "version": 3
   },
   "file_extension": ".py",
   "mimetype": "text/x-python",
   "name": "python",
   "nbconvert_exporter": "python",
   "pygments_lexer": "ipython3",
   "version": "3.8.8"
  }
 },
 "nbformat": 4,
 "nbformat_minor": 5
}
