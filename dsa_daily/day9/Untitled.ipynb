{
 "cells": [
  {
   "cell_type": "code",
   "execution_count": 18,
   "id": "6b7cf863",
   "metadata": {},
   "outputs": [],
   "source": [
    "class VisitorForm:\n",
    "    x = 5 \n",
    "    def __init__(self,n,p):\n",
    "        self.name = n\n",
    "        self.phone = p\n",
    "    def getphone(self):\n",
    "        print(self.phone)   \n"
   ]
  },
  {
   "cell_type": "code",
   "execution_count": 19,
   "id": "e995d804",
   "metadata": {},
   "outputs": [],
   "source": [
    "  \n",
    "class JobForm(VisitorForm):\n",
    "\n",
    "    def myjob(self):\n",
    "        print(\"my job...\")\n",
    "        print(super())\n",
    "    "
   ]
  },
  {
   "cell_type": "code",
   "execution_count": 26,
   "id": "9fa8d0e7",
   "metadata": {},
   "outputs": [],
   "source": [
    "job=JobForm(\"gagan\",2345)"
   ]
  },
  {
   "cell_type": "code",
   "execution_count": 27,
   "id": "5629d65e",
   "metadata": {},
   "outputs": [
    {
     "name": "stdout",
     "output_type": "stream",
     "text": [
      "my job...\n",
      "<super: <class 'JobForm'>, <JobForm object>>\n"
     ]
    }
   ],
   "source": [
    "job.myjob()"
   ]
  },
  {
   "cell_type": "code",
   "execution_count": null,
   "id": "fa40f1ad",
   "metadata": {},
   "outputs": [],
   "source": []
  }
 ],
 "metadata": {
  "kernelspec": {
   "display_name": "Python 3",
   "language": "python",
   "name": "python3"
  },
  "language_info": {
   "codemirror_mode": {
    "name": "ipython",
    "version": 3
   },
   "file_extension": ".py",
   "mimetype": "text/x-python",
   "name": "python",
   "nbconvert_exporter": "python",
   "pygments_lexer": "ipython3",
   "version": "3.8.8"
  }
 },
 "nbformat": 4,
 "nbformat_minor": 5
}
