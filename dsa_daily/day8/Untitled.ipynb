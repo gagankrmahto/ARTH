{
 "cells": [
  {
   "cell_type": "code",
   "execution_count": 8,
   "id": "22cac996",
   "metadata": {},
   "outputs": [],
   "source": [
    "def lw():\n",
    "    x=5\n",
    "    return x"
   ]
  },
  {
   "cell_type": "code",
   "execution_count": 3,
   "id": "753d7f1c",
   "metadata": {},
   "outputs": [
    {
     "data": {
      "text/plain": [
       "1522737459840"
      ]
     },
     "execution_count": 3,
     "metadata": {},
     "output_type": "execute_result"
    }
   ],
   "source": [
    "id(lw)"
   ]
  },
  {
   "cell_type": "code",
   "execution_count": 4,
   "id": "424f175b",
   "metadata": {},
   "outputs": [
    {
     "data": {
      "text/plain": [
       "'0x1628a39b280'"
      ]
     },
     "execution_count": 4,
     "metadata": {},
     "output_type": "execute_result"
    }
   ],
   "source": [
    "hex(id(lw))"
   ]
  },
  {
   "cell_type": "code",
   "execution_count": 9,
   "id": "1a45ca64",
   "metadata": {},
   "outputs": [],
   "source": [
    "y = lw()"
   ]
  },
  {
   "cell_type": "code",
   "execution_count": 6,
   "id": "28ad03b8",
   "metadata": {},
   "outputs": [
    {
     "data": {
      "text/plain": [
       "1522737459840"
      ]
     },
     "execution_count": 6,
     "metadata": {},
     "output_type": "execute_result"
    }
   ],
   "source": [
    "id(y)"
   ]
  },
  {
   "cell_type": "code",
   "execution_count": 7,
   "id": "62991bd7",
   "metadata": {},
   "outputs": [],
   "source": [
    "x = 10"
   ]
  },
  {
   "cell_type": "code",
   "execution_count": 10,
   "id": "170f1ba9",
   "metadata": {},
   "outputs": [
    {
     "data": {
      "text/plain": [
       "5"
      ]
     },
     "execution_count": 10,
     "metadata": {},
     "output_type": "execute_result"
    }
   ],
   "source": [
    "y"
   ]
  },
  {
   "cell_type": "code",
   "execution_count": 11,
   "id": "bf5bd51f",
   "metadata": {},
   "outputs": [
    {
     "data": {
      "text/plain": [
       "10"
      ]
     },
     "execution_count": 11,
     "metadata": {},
     "output_type": "execute_result"
    }
   ],
   "source": [
    "x"
   ]
  },
  {
   "cell_type": "code",
   "execution_count": 16,
   "id": "51a54ff7",
   "metadata": {},
   "outputs": [
    {
     "ename": "SyntaxError",
     "evalue": "invalid syntax (<ipython-input-16-fc5b23b0b8e9>, line 3)",
     "output_type": "error",
     "traceback": [
      "\u001b[1;36m  File \u001b[1;32m\"<ipython-input-16-fc5b23b0b8e9>\"\u001b[1;36m, line \u001b[1;32m3\u001b[0m\n\u001b[1;33m    global x = 100\u001b[0m\n\u001b[1;37m             ^\u001b[0m\n\u001b[1;31mSyntaxError\u001b[0m\u001b[1;31m:\u001b[0m invalid syntax\n"
     ]
    }
   ],
   "source": [
    "x = 10\n",
    "def gk():\n",
    "    global x = 100 \n",
    "    print(x)"
   ]
  },
  {
   "cell_type": "code",
   "execution_count": 14,
   "id": "522bbb76",
   "metadata": {},
   "outputs": [
    {
     "name": "stdout",
     "output_type": "stream",
     "text": [
      "100\n"
     ]
    }
   ],
   "source": [
    "gk()"
   ]
  },
  {
   "cell_type": "code",
   "execution_count": 15,
   "id": "21da08a1",
   "metadata": {},
   "outputs": [
    {
     "data": {
      "text/plain": [
       "100"
      ]
     },
     "execution_count": 15,
     "metadata": {},
     "output_type": "execute_result"
    }
   ],
   "source": [
    "x"
   ]
  },
  {
   "cell_type": "code",
   "execution_count": 18,
   "id": "d527f560",
   "metadata": {},
   "outputs": [],
   "source": [
    "class VisitorForm():\n",
    "    name = None\n",
    "    phone = None\n",
    "    \n",
    "    def __init__(self, myname):\n",
    "        self.name = myname\n",
    "    def getname(self):\n",
    "        print(self.name)"
   ]
  },
  {
   "cell_type": "code",
   "execution_count": 19,
   "id": "a2ef9a2f",
   "metadata": {},
   "outputs": [],
   "source": [
    "gk = VisitorForm(\"gagan Kumar\")"
   ]
  },
  {
   "cell_type": "code",
   "execution_count": 20,
   "id": "f58d6e4b",
   "metadata": {},
   "outputs": [
    {
     "data": {
      "text/plain": [
       "'gagan Kumar'"
      ]
     },
     "execution_count": 20,
     "metadata": {},
     "output_type": "execute_result"
    }
   ],
   "source": [
    "gk.name"
   ]
  },
  {
   "cell_type": "code",
   "execution_count": 22,
   "id": "17e406e6",
   "metadata": {},
   "outputs": [],
   "source": [
    "VisitorForm.name = \"Jack\""
   ]
  },
  {
   "cell_type": "code",
   "execution_count": 23,
   "id": "73e9336a",
   "metadata": {},
   "outputs": [
    {
     "data": {
      "text/plain": [
       "'gagan Kumar'"
      ]
     },
     "execution_count": 23,
     "metadata": {},
     "output_type": "execute_result"
    }
   ],
   "source": [
    "gk.name"
   ]
  },
  {
   "cell_type": "code",
   "execution_count": 24,
   "id": "3b5d0a3b",
   "metadata": {},
   "outputs": [],
   "source": [
    "hello = VisitorForm(\"hello\")"
   ]
  },
  {
   "cell_type": "code",
   "execution_count": 25,
   "id": "dc8d304f",
   "metadata": {},
   "outputs": [
    {
     "data": {
      "text/plain": [
       "'hello'"
      ]
     },
     "execution_count": 25,
     "metadata": {},
     "output_type": "execute_result"
    }
   ],
   "source": [
    "hello.name"
   ]
  },
  {
   "cell_type": "code",
   "execution_count": 26,
   "id": "0bb7f17f",
   "metadata": {},
   "outputs": [],
   "source": [
    "VisitorForm.phone=1234"
   ]
  },
  {
   "cell_type": "code",
   "execution_count": 27,
   "id": "5eae9a17",
   "metadata": {},
   "outputs": [
    {
     "data": {
      "text/plain": [
       "1234"
      ]
     },
     "execution_count": 27,
     "metadata": {},
     "output_type": "execute_result"
    }
   ],
   "source": [
    "gk.phone"
   ]
  },
  {
   "cell_type": "code",
   "execution_count": 28,
   "id": "9931798b",
   "metadata": {},
   "outputs": [
    {
     "data": {
      "text/plain": [
       "1234"
      ]
     },
     "execution_count": 28,
     "metadata": {},
     "output_type": "execute_result"
    }
   ],
   "source": [
    "hello.phone"
   ]
  },
  {
   "cell_type": "code",
   "execution_count": 39,
   "id": "970cb65e",
   "metadata": {},
   "outputs": [],
   "source": [
    "# parent class \n",
    "class visitorForm:\n",
    "    city = \"jaipur\"\n",
    "    def lw(self):\n",
    "        print(\"hii lw\")\n",
    "        \n"
   ]
  },
  {
   "cell_type": "code",
   "execution_count": 40,
   "id": "6aa28fdf",
   "metadata": {},
   "outputs": [],
   "source": [
    "# child class\n",
    "class jobForm(visitorForm):\n",
    "    def myjob(self):\n",
    "        print(\"hii job\")"
   ]
  },
  {
   "cell_type": "code",
   "execution_count": 41,
   "id": "d93cfc11",
   "metadata": {},
   "outputs": [],
   "source": [
    "tom = jobForm()"
   ]
  },
  {
   "cell_type": "code",
   "execution_count": 42,
   "id": "2a698d55",
   "metadata": {},
   "outputs": [
    {
     "name": "stdout",
     "output_type": "stream",
     "text": [
      "hii job\n"
     ]
    }
   ],
   "source": [
    "tom.myjob()"
   ]
  },
  {
   "cell_type": "code",
   "execution_count": 43,
   "id": "98e62547",
   "metadata": {},
   "outputs": [
    {
     "name": "stdout",
     "output_type": "stream",
     "text": [
      "hii lw\n"
     ]
    }
   ],
   "source": [
    "tom.lw()"
   ]
  },
  {
   "cell_type": "code",
   "execution_count": null,
   "id": "418dc844",
   "metadata": {},
   "outputs": [],
   "source": []
  }
 ],
 "metadata": {
  "kernelspec": {
   "display_name": "Python 3",
   "language": "python",
   "name": "python3"
  },
  "language_info": {
   "codemirror_mode": {
    "name": "ipython",
    "version": 3
   },
   "file_extension": ".py",
   "mimetype": "text/x-python",
   "name": "python",
   "nbconvert_exporter": "python",
   "pygments_lexer": "ipython3",
   "version": "3.8.8"
  }
 },
 "nbformat": 4,
 "nbformat_minor": 5
}
