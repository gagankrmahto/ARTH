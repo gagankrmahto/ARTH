{
  "cells": [
    {
      "cell_type": "markdown",
      "metadata": {
        "id": "view-in-github",
        "colab_type": "text"
      },
      "source": [
        "<a href=\"https://colab.research.google.com/github/gagankrmahto/ARTH/blob/master/dsa_daily/59-6x_Tree/Tree_Creation.ipynb\" target=\"_parent\"><img src=\"https://colab.research.google.com/assets/colab-badge.svg\" alt=\"Open In Colab\"/></a>"
      ]
    },
    {
      "cell_type": "code",
      "execution_count": null,
      "id": "ad5544bf",
      "metadata": {
        "id": "ad5544bf"
      },
      "outputs": [],
      "source": [
        "class TreeNode:\n",
        "    def __init__(self, d):\n",
        "        self.data = d\n",
        "        self.leftchild = None\n",
        "        self.rightchild = None\n",
        "        "
      ]
    },
    {
      "cell_type": "code",
      "execution_count": null,
      "id": "8076adc9",
      "metadata": {
        "id": "8076adc9"
      },
      "outputs": [],
      "source": [
        "menu = TreeNode(\"Menu\")\n",
        "drink = TreeNode(\"Drink\")\n",
        "food = TreeNode(\"Food\")\n",
        "tea = TreeNode(\"Tea\")\n",
        "coffee = TreeNode(\"Coffee\")"
      ]
    },
    {
      "cell_type": "code",
      "execution_count": null,
      "id": "54a51ee0",
      "metadata": {
        "id": "54a51ee0",
        "outputId": "6772a4b2-8695-4468-e14b-f267300a838c"
      },
      "outputs": [
        {
          "name": "stdout",
          "output_type": "stream",
          "text": [
            "{'data': 'Menu', 'leftchild': None, 'rightchild': None}\n",
            "{'data': 'Drink', 'leftchild': None, 'rightchild': None}\n",
            "{'data': 'Food', 'leftchild': None, 'rightchild': None}\n",
            "{'data': 'Tea', 'leftchild': None, 'rightchild': None}\n",
            "{'data': 'Coffee', 'leftchild': None, 'rightchild': None}\n"
          ]
        }
      ],
      "source": [
        "print(menu.__dict__)\n",
        "print(drink.__dict__)\n",
        "print(food.__dict__)\n",
        "print(tea.__dict__)\n",
        "print(coffee.__dict__)\n"
      ]
    },
    {
      "cell_type": "code",
      "execution_count": null,
      "id": "6ab25d23",
      "metadata": {
        "id": "6ab25d23"
      },
      "outputs": [],
      "source": [
        "menu.leftchild=  drink\n",
        "menu.rightchild = food\n",
        "drink.leftchild = tea\n",
        "drink.rightchild = coffee"
      ]
    },
    {
      "cell_type": "code",
      "execution_count": null,
      "id": "852ef6d2",
      "metadata": {
        "id": "852ef6d2",
        "outputId": "379e57dd-9b52-472f-f3bc-85d5cc2abb92"
      },
      "outputs": [
        {
          "data": {
            "text/plain": [
              "'Menu'"
            ]
          },
          "execution_count": 42,
          "metadata": {},
          "output_type": "execute_result"
        }
      ],
      "source": [
        "menu.data"
      ]
    },
    {
      "cell_type": "code",
      "execution_count": null,
      "id": "750c719e",
      "metadata": {
        "id": "750c719e",
        "outputId": "7ef2b446-fc48-4cae-a9d5-3c938f8266df"
      },
      "outputs": [
        {
          "data": {
            "text/plain": [
              "'Drink'"
            ]
          },
          "execution_count": 43,
          "metadata": {},
          "output_type": "execute_result"
        }
      ],
      "source": [
        "menu.leftchild.data"
      ]
    },
    {
      "cell_type": "code",
      "execution_count": null,
      "id": "44c62634",
      "metadata": {
        "id": "44c62634",
        "outputId": "be8df8de-c5ba-4f1e-e5c1-1b0623c8c929"
      },
      "outputs": [
        {
          "data": {
            "text/plain": [
              "'Tea'"
            ]
          },
          "execution_count": 44,
          "metadata": {},
          "output_type": "execute_result"
        }
      ],
      "source": [
        "menu.leftchild.leftchild.data"
      ]
    },
    {
      "cell_type": "code",
      "execution_count": null,
      "id": "f450cff6",
      "metadata": {
        "id": "f450cff6",
        "outputId": "46768414-6a70-48de-8d13-a0202d1b3288"
      },
      "outputs": [
        {
          "data": {
            "text/plain": [
              "'Coffee'"
            ]
          },
          "execution_count": 45,
          "metadata": {},
          "output_type": "execute_result"
        }
      ],
      "source": [
        "menu.leftchild.rightchild.data"
      ]
    },
    {
      "cell_type": "code",
      "execution_count": null,
      "id": "bf4574bf",
      "metadata": {
        "id": "bf4574bf"
      },
      "outputs": [],
      "source": [
        "# a.data = \"Menu\""
      ]
    },
    {
      "cell_type": "code",
      "execution_count": null,
      "id": "07a19787",
      "metadata": {
        "id": "07a19787",
        "outputId": "7722f45f-6cc2-48b2-81d9-348bd3d39b05"
      },
      "outputs": [
        {
          "data": {
            "text/plain": [
              "'Menu'"
            ]
          },
          "execution_count": 33,
          "metadata": {},
          "output_type": "execute_result"
        }
      ],
      "source": [
        "menu.data"
      ]
    },
    {
      "cell_type": "code",
      "execution_count": null,
      "id": "5de5b4d3",
      "metadata": {
        "id": "5de5b4d3",
        "outputId": "5b7a1fe6-9b84-4cb7-99b5-5e91b560bead"
      },
      "outputs": [
        {
          "data": {
            "text/plain": [
              "{'data': 'Menu', 'leftchild': None, 'rightchild': None}"
            ]
          },
          "execution_count": 6,
          "metadata": {},
          "output_type": "execute_result"
        }
      ],
      "source": [
        "a.__dict__"
      ]
    },
    {
      "cell_type": "code",
      "execution_count": null,
      "id": "6d9ab284",
      "metadata": {
        "id": "6d9ab284"
      },
      "outputs": [],
      "source": [
        "b  =  TreeNode()"
      ]
    },
    {
      "cell_type": "code",
      "execution_count": null,
      "id": "0ab8ce5e",
      "metadata": {
        "id": "0ab8ce5e",
        "outputId": "54266da2-81f6-4265-ccb1-4728b0fa20fa"
      },
      "outputs": [
        {
          "data": {
            "text/plain": [
              "{'data': None, 'leftchild': None, 'rightchild': None}"
            ]
          },
          "execution_count": 8,
          "metadata": {},
          "output_type": "execute_result"
        }
      ],
      "source": [
        "b.__dict__"
      ]
    },
    {
      "cell_type": "code",
      "execution_count": null,
      "id": "11b2ff16",
      "metadata": {
        "id": "11b2ff16"
      },
      "outputs": [],
      "source": [
        "b.data = \"Drink\" "
      ]
    },
    {
      "cell_type": "code",
      "execution_count": null,
      "id": "c348c45a",
      "metadata": {
        "id": "c348c45a",
        "outputId": "8d8731ad-7fa7-4732-bdfe-4fbbf0544f7d"
      },
      "outputs": [
        {
          "data": {
            "text/plain": [
              "{'data': 'Drink', 'leftchild': None, 'rightchild': None}"
            ]
          },
          "execution_count": 11,
          "metadata": {},
          "output_type": "execute_result"
        }
      ],
      "source": [
        "b.__dict__"
      ]
    },
    {
      "cell_type": "code",
      "execution_count": null,
      "id": "3328fd41",
      "metadata": {
        "id": "3328fd41"
      },
      "outputs": [],
      "source": [
        "c =  TreeNode()"
      ]
    },
    {
      "cell_type": "code",
      "execution_count": null,
      "id": "17887457",
      "metadata": {
        "id": "17887457",
        "outputId": "ecc71cea-8c8d-4076-8c4c-9024132757a6"
      },
      "outputs": [
        {
          "data": {
            "text/plain": [
              "{'data': None, 'leftchild': None, 'rightchild': None}"
            ]
          },
          "execution_count": 13,
          "metadata": {},
          "output_type": "execute_result"
        }
      ],
      "source": [
        "c.__dict__"
      ]
    },
    {
      "cell_type": "code",
      "execution_count": null,
      "id": "1a6132c9",
      "metadata": {
        "id": "1a6132c9"
      },
      "outputs": [],
      "source": [
        "c.data = \"Food\""
      ]
    },
    {
      "cell_type": "code",
      "execution_count": null,
      "id": "1639074f",
      "metadata": {
        "id": "1639074f",
        "outputId": "11dcc364-328a-4d41-8108-801519566a8a"
      },
      "outputs": [
        {
          "data": {
            "text/plain": [
              "{'data': 'Food', 'leftchild': None, 'rightchild': None}"
            ]
          },
          "execution_count": 15,
          "metadata": {},
          "output_type": "execute_result"
        }
      ],
      "source": [
        "c.__dict__"
      ]
    },
    {
      "cell_type": "code",
      "execution_count": null,
      "id": "d33b7dcf",
      "metadata": {
        "id": "d33b7dcf",
        "outputId": "3657f3c6-a1c3-436b-da9c-92dc10b2d4ab"
      },
      "outputs": [
        {
          "name": "stdout",
          "output_type": "stream",
          "text": [
            "{'data': 'Menu', 'leftchild': None, 'rightchild': None}\n",
            "{'data': 'Drink', 'leftchild': None, 'rightchild': None}\n",
            "{'data': 'Food', 'leftchild': None, 'rightchild': None}\n"
          ]
        }
      ],
      "source": [
        "print(a.__dict__)\n",
        "print(b.__dict__)\n",
        "print(c.__dict__)"
      ]
    },
    {
      "cell_type": "code",
      "execution_count": null,
      "id": "3b7e29fb",
      "metadata": {
        "id": "3b7e29fb"
      },
      "outputs": [],
      "source": [
        "a.leftchild = b\n",
        "a.rightchild = c"
      ]
    },
    {
      "cell_type": "code",
      "execution_count": null,
      "id": "aaf8a030",
      "metadata": {
        "id": "aaf8a030",
        "outputId": "13cae783-a3c8-4277-f29d-8cf3414371d7"
      },
      "outputs": [
        {
          "name": "stdout",
          "output_type": "stream",
          "text": [
            "{'data': 'Menu', 'leftchild': <__main__.TreeNode object at 0x00000215934E8B50>, 'rightchild': <__main__.TreeNode object at 0x000002159388D0A0>}\n",
            "{'data': 'Drink', 'leftchild': None, 'rightchild': None}\n",
            "{'data': 'Food', 'leftchild': None, 'rightchild': None}\n"
          ]
        }
      ],
      "source": [
        "print(a.__dict__)\n",
        "print(b.__dict__)\n",
        "print(c.__dict__)"
      ]
    },
    {
      "cell_type": "code",
      "execution_count": null,
      "id": "3f0013ef",
      "metadata": {
        "id": "3f0013ef",
        "outputId": "889c487d-901d-4e0f-c5e3-2ba144c133fa"
      },
      "outputs": [
        {
          "data": {
            "text/plain": [
              "'Menu'"
            ]
          },
          "execution_count": 23,
          "metadata": {},
          "output_type": "execute_result"
        }
      ],
      "source": [
        "a.data"
      ]
    },
    {
      "cell_type": "code",
      "execution_count": null,
      "id": "ebf5d9b3",
      "metadata": {
        "id": "ebf5d9b3",
        "outputId": "c4ae25c3-dea4-4d89-bc25-75a8b0616a8a"
      },
      "outputs": [
        {
          "data": {
            "text/plain": [
              "'Drink'"
            ]
          },
          "execution_count": 25,
          "metadata": {},
          "output_type": "execute_result"
        }
      ],
      "source": [
        "a.leftchild.data"
      ]
    },
    {
      "cell_type": "code",
      "execution_count": null,
      "id": "ad603ddc",
      "metadata": {
        "id": "ad603ddc",
        "outputId": "4c9350f2-4170-498f-cfaa-74a7fc07b079"
      },
      "outputs": [
        {
          "data": {
            "text/plain": [
              "'Food'"
            ]
          },
          "execution_count": 27,
          "metadata": {},
          "output_type": "execute_result"
        }
      ],
      "source": [
        "a.rightchild.data"
      ]
    },
    {
      "cell_type": "code",
      "execution_count": null,
      "id": "4d3053a8",
      "metadata": {
        "id": "4d3053a8",
        "outputId": "de131c4e-eb9d-4ea8-a67c-82016b2bc061"
      },
      "outputs": [
        {
          "data": {
            "text/plain": [
              "{'data': 'Drink', 'leftchild': None, 'rightchild': None}"
            ]
          },
          "execution_count": 28,
          "metadata": {},
          "output_type": "execute_result"
        }
      ],
      "source": [
        "b.__dict__"
      ]
    },
    {
      "cell_type": "code",
      "execution_count": null,
      "id": "08a5f0be",
      "metadata": {
        "id": "08a5f0be"
      },
      "outputs": [],
      "source": [
        ""
      ]
    }
  ],
  "metadata": {
    "kernelspec": {
      "display_name": "Python 3",
      "language": "python",
      "name": "python3"
    },
    "language_info": {
      "codemirror_mode": {
        "name": "ipython",
        "version": 3
      },
      "file_extension": ".py",
      "mimetype": "text/x-python",
      "name": "python",
      "nbconvert_exporter": "python",
      "pygments_lexer": "ipython3",
      "version": "3.8.8"
    },
    "colab": {
      "name": "Tree Creation.ipynb",
      "provenance": [],
      "include_colab_link": true
    }
  },
  "nbformat": 4,
  "nbformat_minor": 5
}