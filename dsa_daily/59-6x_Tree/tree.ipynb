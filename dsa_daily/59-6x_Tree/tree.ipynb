{
 "cells": [
  {
   "cell_type": "code",
   "execution_count": 3,
   "id": "abd1e78c",
   "metadata": {},
   "outputs": [],
   "source": [
    "class Node:\n",
    "    def __init__(self,d):\n",
    "        self.data = d\n",
    "        self.leftChild = None\n",
    "        self.rightChild = None"
   ]
  },
  {
   "cell_type": "code",
   "execution_count": 4,
   "id": "a3531067",
   "metadata": {},
   "outputs": [],
   "source": [
    "menu = Node(\"Menu\")"
   ]
  },
  {
   "cell_type": "code",
   "execution_count": 5,
   "id": "114a6fe3",
   "metadata": {},
   "outputs": [],
   "source": [
    "drink = Node(\"Drink\")"
   ]
  },
  {
   "cell_type": "code",
   "execution_count": 6,
   "id": "d5a91304",
   "metadata": {},
   "outputs": [],
   "source": [
    "food = Node(\"Food\")"
   ]
  },
  {
   "cell_type": "code",
   "execution_count": 7,
   "id": "2df18a1e",
   "metadata": {},
   "outputs": [
    {
     "data": {
      "text/plain": [
       "'Food'"
      ]
     },
     "execution_count": 7,
     "metadata": {},
     "output_type": "execute_result"
    }
   ],
   "source": [
    "food.data"
   ]
  },
  {
   "cell_type": "code",
   "execution_count": 9,
   "id": "0b836810",
   "metadata": {},
   "outputs": [],
   "source": [
    "menu.leftChild = drink"
   ]
  },
  {
   "cell_type": "code",
   "execution_count": 10,
   "id": "0e289d4e",
   "metadata": {},
   "outputs": [],
   "source": [
    "menu.rightChild = food"
   ]
  },
  {
   "cell_type": "code",
   "execution_count": 11,
   "id": "29623d1c",
   "metadata": {},
   "outputs": [],
   "source": [
    "tea = Node(\"Tea\")\n",
    "coffee = Node(\"Coffee\")"
   ]
  },
  {
   "cell_type": "code",
   "execution_count": 12,
   "id": "3b9b58b5",
   "metadata": {},
   "outputs": [],
   "source": [
    "drink.leftChild=tea"
   ]
  },
  {
   "cell_type": "code",
   "execution_count": 13,
   "id": "89ae7bb7",
   "metadata": {},
   "outputs": [],
   "source": [
    "drink.rightChild = coffee"
   ]
  },
  {
   "cell_type": "code",
   "execution_count": 14,
   "id": "a1753e07",
   "metadata": {},
   "outputs": [
    {
     "data": {
      "text/plain": [
       "'Menu'"
      ]
     },
     "execution_count": 14,
     "metadata": {},
     "output_type": "execute_result"
    }
   ],
   "source": [
    "menu.data"
   ]
  },
  {
   "cell_type": "code",
   "execution_count": 15,
   "id": "f8e0ee11",
   "metadata": {},
   "outputs": [
    {
     "data": {
      "text/plain": [
       "'Drink'"
      ]
     },
     "execution_count": 15,
     "metadata": {},
     "output_type": "execute_result"
    }
   ],
   "source": [
    "menu.leftChild.data"
   ]
  },
  {
   "cell_type": "code",
   "execution_count": 16,
   "id": "91d6e5cd",
   "metadata": {},
   "outputs": [
    {
     "data": {
      "text/plain": [
       "'Tea'"
      ]
     },
     "execution_count": 16,
     "metadata": {},
     "output_type": "execute_result"
    }
   ],
   "source": [
    "menu.leftChild.leftChild.data"
   ]
  },
  {
   "cell_type": "code",
   "execution_count": 17,
   "id": "dda8fe94",
   "metadata": {},
   "outputs": [
    {
     "data": {
      "text/plain": [
       "'Coffee'"
      ]
     },
     "execution_count": 17,
     "metadata": {},
     "output_type": "execute_result"
    }
   ],
   "source": [
    "menu.leftChild.rightChild.data"
   ]
  },
  {
   "cell_type": "code",
   "execution_count": null,
   "id": "1874282b",
   "metadata": {},
   "outputs": [],
   "source": []
  }
 ],
 "metadata": {
  "kernelspec": {
   "display_name": "Python 3",
   "language": "python",
   "name": "python3"
  },
  "language_info": {
   "codemirror_mode": {
    "name": "ipython",
    "version": 3
   },
   "file_extension": ".py",
   "mimetype": "text/x-python",
   "name": "python",
   "nbconvert_exporter": "python",
   "pygments_lexer": "ipython3",
   "version": "3.8.8"
  }
 },
 "nbformat": 4,
 "nbformat_minor": 5
}
