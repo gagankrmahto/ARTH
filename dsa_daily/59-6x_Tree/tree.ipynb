{
 "cells": [
  {
   "cell_type": "code",
   "execution_count": 3,
   "id": "66cfca25",
   "metadata": {},
   "outputs": [],
   "source": [
    "class Node:\n",
    "    def __init__(self,d):\n",
    "        self.data = d\n",
    "        self.leftChild = None\n",
    "        self.rightChild = None"
   ]
  },
  {
   "cell_type": "code",
   "execution_count": 4,
   "id": "9be915c4",
   "metadata": {},
   "outputs": [],
   "source": [
    "menu = Node(\"Menu\")"
   ]
  },
  {
   "cell_type": "code",
   "execution_count": 5,
   "id": "ac1a0e29",
   "metadata": {},
   "outputs": [],
   "source": [
    "drink = Node(\"Drink\")"
   ]
  },
  {
   "cell_type": "code",
   "execution_count": 6,
   "id": "92a3e822",
   "metadata": {},
   "outputs": [],
   "source": [
    "food = Node(\"Food\")"
   ]
  },
  {
   "cell_type": "code",
   "execution_count": 7,
   "id": "f4caf755",
   "metadata": {},
   "outputs": [
    {
     "data": {
      "text/plain": [
       "'Food'"
      ]
     },
     "execution_count": 7,
     "metadata": {},
     "output_type": "execute_result"
    }
   ],
   "source": [
    "food.data"
   ]
  },
  {
   "cell_type": "code",
   "execution_count": 9,
   "id": "ca750359",
   "metadata": {},
   "outputs": [],
   "source": [
    "menu.leftChild = drink"
   ]
  },
  {
   "cell_type": "code",
   "execution_count": 10,
   "id": "6324c7ee",
   "metadata": {},
   "outputs": [],
   "source": [
    "menu.rightChild = food"
   ]
  },
  {
   "cell_type": "code",
   "execution_count": 11,
   "id": "1c456e47",
   "metadata": {},
   "outputs": [],
   "source": [
    "tea = Node(\"Tea\")\n",
    "coffee = Node(\"Coffee\")"
   ]
  },
  {
   "cell_type": "code",
   "execution_count": 12,
   "id": "713161b0",
   "metadata": {},
   "outputs": [],
   "source": [
    "drink.leftChild=tea"
   ]
  },
  {
   "cell_type": "code",
   "execution_count": null,
   "id": "41ae393e",
   "metadata": {},
   "outputs": [],
   "source": [
    "drink.rightChild = coffee"
   ]
  }
 ],
 "metadata": {
  "kernelspec": {
   "display_name": "Python 3",
   "language": "python",
   "name": "python3"
  },
  "language_info": {
   "codemirror_mode": {
    "name": "ipython",
    "version": 3
   },
   "file_extension": ".py",
   "mimetype": "text/x-python",
   "name": "python",
   "nbconvert_exporter": "python",
   "pygments_lexer": "ipython3",
   "version": "3.8.8"
  }
 },
 "nbformat": 4,
 "nbformat_minor": 5
}
