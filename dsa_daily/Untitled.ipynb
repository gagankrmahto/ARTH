{
 "cells": [
  {
   "cell_type": "code",
   "execution_count": 2,
   "id": "75fa2675",
   "metadata": {},
   "outputs": [],
   "source": [
    "def linear_search(arr, search):\n",
    "    total_elements = len(arr)\n",
    "    for i in range(total_elements):\n",
    "        if search == arr[i]:\n",
    "            print(\"found the element at \", i+1, \" position\")"
   ]
  },
  {
   "cell_type": "code",
   "execution_count": 3,
   "id": "52dc79f8",
   "metadata": {},
   "outputs": [],
   "source": [
    "arr1 = [12,3,4,2,5]"
   ]
  },
  {
   "cell_type": "code",
   "execution_count": 4,
   "id": "f85f3fd4",
   "metadata": {},
   "outputs": [
    {
     "data": {
      "text/plain": [
       "5"
      ]
     },
     "execution_count": 4,
     "metadata": {},
     "output_type": "execute_result"
    }
   ],
   "source": [
    "len(arr1)"
   ]
  },
  {
   "cell_type": "code",
   "execution_count": 5,
   "id": "298a566e",
   "metadata": {},
   "outputs": [],
   "source": [
    "myarr = list(range(1000))\n"
   ]
  },
  {
   "cell_type": "code",
   "execution_count": 6,
   "id": "9cb853ae",
   "metadata": {},
   "outputs": [
    {
     "name": "stdout",
     "output_type": "stream",
     "text": [
      "found the element at  3  position\n"
     ]
    }
   ],
   "source": [
    "linear_search(arr1,4)"
   ]
  },
  {
   "cell_type": "code",
   "execution_count": 7,
   "id": "575416e1",
   "metadata": {},
   "outputs": [],
   "source": [
    "%load_ext line_profiler"
   ]
  },
  {
   "cell_type": "code",
   "execution_count": 8,
   "id": "536f4cb3",
   "metadata": {},
   "outputs": [
    {
     "name": "stdout",
     "output_type": "stream",
     "text": [
      "found the element at  1000  position\n"
     ]
    }
   ],
   "source": [
    "%lprun  linear_search(myarr,999)"
   ]
  },
  {
   "cell_type": "code",
   "execution_count": 9,
   "id": "91a8284e",
   "metadata": {},
   "outputs": [],
   "source": [
    "%lprun  -f  linear_search linear_search(myarr, 99998)"
   ]
  },
  {
   "cell_type": "code",
   "execution_count": 10,
   "id": "1a1dfc78",
   "metadata": {},
   "outputs": [],
   "source": [
    "def bin_search(arr, search):\n",
    "    arr_len = len(arr)\n",
    "    l = 0\n",
    "    u = len(arr)\n",
    "    m = int((l+u) /2)\n",
    "    while(l<u):\n",
    "        if arr[m] == search:\n",
    "            print(\"element found\")\n",
    "            break\n",
    "        elif arr[m] < search:\n",
    "            l = m+1\n",
    "        else :\n",
    "            u = m-1\n",
    "        m = int((l+u)/2)\n",
    "    \n",
    "    "
   ]
  },
  {
   "cell_type": "code",
   "execution_count": 11,
   "id": "24d44a8e",
   "metadata": {},
   "outputs": [],
   "source": [
    "arr1 = [2,4,5,6,7,13,15,21]"
   ]
  },
  {
   "cell_type": "code",
   "execution_count": 12,
   "id": "f3c1603d",
   "metadata": {},
   "outputs": [
    {
     "name": "stdout",
     "output_type": "stream",
     "text": [
      "element found\n"
     ]
    }
   ],
   "source": [
    "bin_search(arr1, 15)"
   ]
  },
  {
   "cell_type": "code",
   "execution_count": 14,
   "id": "b20fc441",
   "metadata": {},
   "outputs": [
    {
     "name": "stdout",
     "output_type": "stream",
     "text": [
      "element found\n"
     ]
    }
   ],
   "source": [
    "%lprun  -f  bin_search bin_search(myarr, 78)"
   ]
  },
  {
   "cell_type": "code",
   "execution_count": null,
   "id": "fb30eeca",
   "metadata": {},
   "outputs": [],
   "source": []
  }
 ],
 "metadata": {
  "kernelspec": {
   "display_name": "Python 3",
   "language": "python",
   "name": "python3"
  },
  "language_info": {
   "codemirror_mode": {
    "name": "ipython",
    "version": 3
   },
   "file_extension": ".py",
   "mimetype": "text/x-python",
   "name": "python",
   "nbconvert_exporter": "python",
   "pygments_lexer": "ipython3",
   "version": "3.8.8"
  }
 },
 "nbformat": 4,
 "nbformat_minor": 5
}
