{
 "cells": [
  {
   "cell_type": "code",
   "execution_count": 14,
   "id": "f231909a",
   "metadata": {},
   "outputs": [],
   "source": [
    "import cv2"
   ]
  },
  {
   "cell_type": "code",
   "execution_count": 15,
   "id": "3e2c6489",
   "metadata": {},
   "outputs": [],
   "source": [
    "cap = cv2.VideoCapture(0)"
   ]
  },
  {
   "cell_type": "code",
   "execution_count": 19,
   "id": "6608418a",
   "metadata": {},
   "outputs": [],
   "source": [
    "while True:\n",
    "    ret,image=cap.read()\n",
    "    cv2.imshow(\"hello\",image)\n",
    "    if cv2.waitKey(100) == 13:\n",
    "        break\n",
    "cv2.destroyAllWindows()"
   ]
  },
  {
   "cell_type": "code",
   "execution_count": null,
   "id": "028329f1",
   "metadata": {},
   "outputs": [],
   "source": [
    "ret,image=cap.read()\n",
    "def gk(e,x,y,w,h):\n",
    "    if cv2.EVENT_MOUSEMOVE == e:\n",
    "        cv2.circle(image,(x,y),50,(255,255,0),-1)\n",
    "        print('x:',x,' y:',y)\n",
    "\n",
    "\n",
    "while True:\n",
    "    cv2.namedWindow(winname=\"hii\")\n",
    "    cv2.setMouseCallback(\"hii\", gk)\n",
    "    roi=cv2.selectROI(image)\n",
    "    cv2.imshow(\"hii\",image)\n",
    "\n",
    "    if cv2.waitKey(100) == 13:\n",
    "        break\n",
    "cv2.destroyAllWindows()"
   ]
  },
  {
   "cell_type": "code",
   "execution_count": null,
   "id": "f6196ed5",
   "metadata": {},
   "outputs": [],
   "source": []
  }
 ],
 "metadata": {
  "kernelspec": {
   "display_name": "Python 3",
   "language": "python",
   "name": "python3"
  },
  "language_info": {
   "codemirror_mode": {
    "name": "ipython",
    "version": 3
   },
   "file_extension": ".py",
   "mimetype": "text/x-python",
   "name": "python",
   "nbconvert_exporter": "python",
   "pygments_lexer": "ipython3",
   "version": "3.8.8"
  }
 },
 "nbformat": 4,
 "nbformat_minor": 5
}
