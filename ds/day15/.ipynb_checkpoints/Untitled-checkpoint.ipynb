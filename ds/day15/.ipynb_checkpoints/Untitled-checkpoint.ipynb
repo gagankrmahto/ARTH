{
 "cells": [
  {
   "cell_type": "code",
   "execution_count": 1,
   "id": "94268fea",
   "metadata": {},
   "outputs": [],
   "source": [
    "import numpy as np\n",
    "\n",
    "low_green = np.array([0,100,100])"
   ]
  },
  {
   "cell_type": "code",
   "execution_count": 2,
   "id": "bc7ef3f3",
   "metadata": {},
   "outputs": [],
   "source": [
    "high_green = np.array([15,255,255])"
   ]
  },
  {
   "cell_type": "code",
   "execution_count": 3,
   "id": "0e4a69f8",
   "metadata": {},
   "outputs": [],
   "source": [
    "import cv2"
   ]
  },
  {
   "cell_type": "code",
   "execution_count": 4,
   "id": "c46f5266",
   "metadata": {},
   "outputs": [],
   "source": [
    "cap = cv2.VideoCapture(0)"
   ]
  },
  {
   "cell_type": "code",
   "execution_count": 5,
   "id": "a758a2a7",
   "metadata": {},
   "outputs": [],
   "source": [
    "font = cv2.FONT_HERSHEY_SIMPLEX\n",
    "org = (50, 50)\n",
    "fontScale = 1\n",
    "color = (255, 0, 0)\n",
    "thickness = 2\n",
    "\n",
    "while True:\n",
    "    ret, photo = cap.read()\n",
    "    photo = cv2.cvtColor(photo, cv2.COLOR_BGR2HSV)\n",
    "    cv2.imshow(\"original\", photo)\n",
    "    mask = cv2.inRange(photo, low_green, high_green )\n",
    "    image=cv2.putText(mask, 'BhootNath', org, font, \n",
    "                   fontScale, color, thickness, cv2.LINE_AA)\n",
    "    cv2.imshow(\"hi\", image)\n",
    "    if cv2.waitKey(100) == 13:\n",
    "        break\n",
    "        \n",
    "cv2.destroyAllWindows()"
   ]
  },
  {
   "cell_type": "code",
   "execution_count": 12,
   "id": "398e6ab3",
   "metadata": {},
   "outputs": [],
   "source": [
    "cap.release()"
   ]
  },
  {
   "cell_type": "code",
   "execution_count": null,
   "id": "6ea08cc3",
   "metadata": {},
   "outputs": [],
   "source": []
  }
 ],
 "metadata": {
  "kernelspec": {
   "display_name": "Python 3",
   "language": "python",
   "name": "python3"
  },
  "language_info": {
   "codemirror_mode": {
    "name": "ipython",
    "version": 3
   },
   "file_extension": ".py",
   "mimetype": "text/x-python",
   "name": "python",
   "nbconvert_exporter": "python",
   "pygments_lexer": "ipython3",
   "version": "3.8.8"
  }
 },
 "nbformat": 4,
 "nbformat_minor": 5
}
